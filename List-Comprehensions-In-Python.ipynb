{
 "cells": [
  {
   "cell_type": "code",
   "execution_count": null,
   "id": "ffbba759",
   "metadata": {},
   "outputs": [],
   "source": [
    "# Using For Loop to Iterate through a String"
   ]
  },
  {
   "cell_type": "code",
   "execution_count": 3,
   "id": "c6e10ce2",
   "metadata": {},
   "outputs": [
    {
     "name": "stdout",
     "output_type": "stream",
     "text": [
      "['p', 'y', 't', 'h', 'o', 'n']\n"
     ]
    }
   ],
   "source": [
    "separated_letters = []\n",
    "for letter in 'python':\n",
    "    separated_letters.append(letter)\n",
    "print(separated_letters)    "
   ]
  },
  {
   "cell_type": "code",
   "execution_count": 4,
   "id": "5200af64",
   "metadata": {},
   "outputs": [
    {
     "name": "stdout",
     "output_type": "stream",
     "text": [
      "['p', 'y', 't', 'h', 'o', 'n']\n"
     ]
    }
   ],
   "source": [
    "seperated_letters = [letter for letter in 'python']\n",
    "print(seperated_letters)"
   ]
  },
  {
   "cell_type": "markdown",
   "id": "ba668d99",
   "metadata": {},
   "source": [
    "# Using Lambda Function Inside List"
   ]
  },
  {
   "cell_type": "code",
   "execution_count": 5,
   "id": "4c50523c",
   "metadata": {},
   "outputs": [
    {
     "name": "stdout",
     "output_type": "stream",
     "text": [
      "['p', 'y', 't', 'h', 'o', 'n']\n"
     ]
    }
   ],
   "source": [
    "letters = list(map(lambda y: y,'python'))\n",
    "print(letters)"
   ]
  },
  {
   "cell_type": "markdown",
   "id": "222187a4",
   "metadata": {},
   "source": [
    "# Using List With List Comprehension"
   ]
  },
  {
   "cell_type": "code",
   "execution_count": 7,
   "id": "68060a2e",
   "metadata": {},
   "outputs": [
    {
     "name": "stdout",
     "output_type": "stream",
     "text": [
      "[0, 2, 4, 6, 8]\n"
     ]
    }
   ],
   "source": [
    "even_list = []\n",
    "\n",
    "for i in range(0,10):\n",
    "    if i%2 == 0:\n",
    "        even_list.append(i)\n",
    "print(even_list)     "
   ]
  },
  {
   "cell_type": "code",
   "execution_count": 8,
   "id": "90ba6425",
   "metadata": {},
   "outputs": [
    {
     "name": "stdout",
     "output_type": "stream",
     "text": [
      "[0, 2, 4, 6, 8]\n"
     ]
    }
   ],
   "source": [
    "even_list = [i for i in range(10) if i%2 == 0]\n",
    "print(even_list)"
   ]
  },
  {
   "cell_type": "markdown",
   "id": "a6ca865b",
   "metadata": {},
   "source": [
    "# Finding Transpose of a Matrix Using List Comprehension"
   ]
  },
  {
   "cell_type": "code",
   "execution_count": 9,
   "id": "e210bb89",
   "metadata": {},
   "outputs": [
    {
     "name": "stdout",
     "output_type": "stream",
     "text": [
      "[[1, 4], [2, 5], [3, 6], [4, 7]]\n"
     ]
    }
   ],
   "source": [
    "transposed_matrix = []\n",
    "matrix = [[1,2,3,4],[4,5,6,7,8]]\n",
    "for i in range(len(matrix[0])):\n",
    "    transposed_row = []\n",
    "    for row in matrix:\n",
    "        transposed_row.append(row[i])\n",
    "    transposed_matrix.append(transposed_row)\n",
    "print(transposed_matrix)               "
   ]
  },
  {
   "cell_type": "code",
   "execution_count": 10,
   "id": "d5675388",
   "metadata": {},
   "outputs": [
    {
     "name": "stdout",
     "output_type": "stream",
     "text": [
      "[[1, 3, 5, 7], [2, 4, 6, 8]]\n"
     ]
    }
   ],
   "source": [
    "matrix = [[1,2],\n",
    "         [3,4],\n",
    "         [5,6],\n",
    "         [7,8] ]\n",
    "transposed_matrix = [[matrix[i][j] for i in range(len(matrix))] for j in range(len(matrix[0]))]\n",
    "print(transposed_matrix)"
   ]
  },
  {
   "cell_type": "markdown",
   "id": "828aca31",
   "metadata": {},
   "source": [
    "# Finding the elements in a list in which elements are ended with the letter'b'and the length of that element is greater than 2"
   ]
  },
  {
   "cell_type": "code",
   "execution_count": 11,
   "id": "b5cfce89",
   "metadata": {},
   "outputs": [
    {
     "name": "stdout",
     "output_type": "stream",
     "text": [
      "['Chb', 'Tdb']\n"
     ]
    }
   ],
   "source": [
    "names = ['Ch','Dh','Eh','cb','Tb','Chb','Tdb']\n",
    "final_names = [name for name in names if name.lower().endswith('b') and len(name) > 2]\n",
    "print(final_names)"
   ]
  },
  {
   "cell_type": "markdown",
   "id": "23657dc9",
   "metadata": {},
   "source": [
    "# Reverse each String in a Tuple"
   ]
  },
  {
   "cell_type": "code",
   "execution_count": 12,
   "id": "38672dd6",
   "metadata": {},
   "outputs": [
    {
     "name": "stdout",
     "output_type": "stream",
     "text": [
      "['nohtyP', 'avaJ', 'tsiL']\n"
     ]
    }
   ],
   "source": [
    "list = [string[::-1] for string in ('Python','Java','List')]\n",
    "print(list)"
   ]
  },
  {
   "cell_type": "code",
   "execution_count": null,
   "id": "6fe6f687",
   "metadata": {},
   "outputs": [],
   "source": []
  }
 ],
 "metadata": {
  "kernelspec": {
   "display_name": "Python 3 (ipykernel)",
   "language": "python",
   "name": "python3"
  },
  "language_info": {
   "codemirror_mode": {
    "name": "ipython",
    "version": 3
   },
   "file_extension": ".py",
   "mimetype": "text/x-python",
   "name": "python",
   "nbconvert_exporter": "python",
   "pygments_lexer": "ipython3",
   "version": "3.10.3"
  }
 },
 "nbformat": 4,
 "nbformat_minor": 5
}
